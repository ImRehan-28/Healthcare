{
 "cells": [
  {
   "cell_type": "code",
   "execution_count": 3,
   "id": "52db2697",
   "metadata": {},
   "outputs": [
    {
     "name": "stdout",
     "output_type": "stream",
     "text": [
      "Best accuracy achieved: 0.9025974025974026\n",
      "Best feature subset (1 = selected, 0 = not selected): [0 0 0 0 1 1 0 0 0 0 0 1 1]\n"
     ]
    }
   ],
   "source": [
    "import pandas as pd\n",
    "import numpy as np\n",
    "from sklearn.neighbors import KNeighborsClassifier\n",
    "from sklearn.model_selection import train_test_split\n",
    "from sklearn.metrics import accuracy_score\n",
    "\n",
    "# Load the dataset\n",
    "file_path = 'heart.csv'\n",
    "data = pd.read_csv(file_path)\n",
    "\n",
    "# Parameters for ACO\n",
    "num_ants = 10               # Number of ants in each iteration\n",
    "num_features = data.shape[1] - 1  # Number of features (excluding target)\n",
    "num_iterations = 20         # Number of iterations\n",
    "evaporation_rate = 0.2      # Evaporation rate for pheromone update\n",
    "alpha = 1.0                 # Influence of pheromone on feature selection\n",
    "beta = 2.0                  # Influence of heuristic (accuracy) on feature selection\n",
    "initial_pheromone = 1.0     # Initial pheromone level\n",
    "\n",
    "# Initial pheromone levels for each feature\n",
    "pheromone_levels = np.full(num_features, initial_pheromone)\n",
    "\n",
    "# Split data into features and target\n",
    "X = data.drop('target', axis=1)\n",
    "y = data['target']\n",
    "\n",
    "# Train-test split\n",
    "X_train, X_test, y_train, y_test = train_test_split(X, y, test_size=0.3, random_state=42)\n",
    "\n",
    "# Initialize best accuracy and feature subset\n",
    "best_accuracy = 0.0\n",
    "best_features = None\n",
    "\n",
    "# ACO Algorithm\n",
    "for iteration in range(num_iterations):\n",
    "    all_accuracies = []     # To store accuracy of each ant\n",
    "    ant_solutions = []      # To store selected features for each ant\n",
    "\n",
    "    # Each ant selects a subset of features\n",
    "    for ant in range(num_ants):\n",
    "        selected_features = np.random.rand(num_features) < pheromone_levels / pheromone_levels.sum()\n",
    "        if not any(selected_features):\n",
    "            selected_features[np.random.randint(0, num_features)] = True\n",
    "\n",
    "        # Train and evaluate the classifier on the selected features\n",
    "        selected_X_train = X_train.loc[:, selected_features]\n",
    "        selected_X_test = X_test.loc[:, selected_features]\n",
    "\n",
    "        knn = KNeighborsClassifier(n_neighbors=3)\n",
    "        knn.fit(selected_X_train, y_train)\n",
    "        y_pred = knn.predict(selected_X_test)\n",
    "        accuracy = accuracy_score(y_test, y_pred)\n",
    "\n",
    "        # Update if this ant's solution is the best so far\n",
    "        if accuracy > best_accuracy:\n",
    "            best_accuracy = accuracy\n",
    "            best_features = selected_features\n",
    "\n",
    "        all_accuracies.append(accuracy)\n",
    "        ant_solutions.append(selected_features)\n",
    "\n",
    "    # Update pheromones based on ant solutions\n",
    "    for i in range(num_features):\n",
    "        pheromone_levels[i] *= (1 - evaporation_rate)  # Evaporation\n",
    "\n",
    "        # Reinforce pheromone for features in better solutions\n",
    "        for ant in range(num_ants):\n",
    "            if ant_solutions[ant][i]:\n",
    "                pheromone_levels[i] += all_accuracies[ant] / best_accuracy\n",
    "\n",
    "print(\"Best accuracy achieved:\", best_accuracy)\n",
    "print(\"Best feature subset (1 = selected, 0 = not selected):\", best_features.astype(int))"
   ]
  },
  {
   "cell_type": "code",
   "execution_count": null,
   "id": "9fc33044",
   "metadata": {},
   "outputs": [],
   "source": []
  }
 ],
 "metadata": {
  "kernelspec": {
   "display_name": "Python 3 (ipykernel)",
   "language": "python",
   "name": "python3"
  },
  "language_info": {
   "codemirror_mode": {
    "name": "ipython",
    "version": 3
   },
   "file_extension": ".py",
   "mimetype": "text/x-python",
   "name": "python",
   "nbconvert_exporter": "python",
   "pygments_lexer": "ipython3",
   "version": "3.11.5"
  }
 },
 "nbformat": 4,
 "nbformat_minor": 5
}
